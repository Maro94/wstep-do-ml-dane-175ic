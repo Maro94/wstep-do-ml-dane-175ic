{
  "nbformat": 4,
  "nbformat_minor": 0,
  "metadata": {
    "colab": {
      "name": "zadanie3",
      "provenance": [],
      "authorship_tag": "ABX9TyNSQTOflojvx98Yf29Sc4CL",
      "include_colab_link": true
    },
    "kernelspec": {
      "name": "python3",
      "display_name": "Python 3"
    }
  },
  "cells": [
    {
      "cell_type": "markdown",
      "metadata": {
        "id": "view-in-github",
        "colab_type": "text"
      },
      "source": [
        "<a href=\"https://colab.research.google.com/github/Maro94/wstep-do-ml-mariuszmallek19389B1-175ic/blob/main/zadanie3.ipynb\" target=\"_parent\"><img src=\"https://colab.research.google.com/assets/colab-badge.svg\" alt=\"Open In Colab\"/></a>"
      ]
    },
    {
      "cell_type": "code",
      "metadata": {
        "id": "X7s4bFW6_HwJ"
      },
      "source": [
        "import numpy\n",
        "import numpy as np\n",
        "#Tworzenie list i operacja na nich\n",
        "\n",
        "list1=\"ala\",\"ma\",\"kota\"\n",
        "list2=\"karolina\",\"ma\",\"korale\"\n",
        "\n",
        "\n"
      ],
      "execution_count": null,
      "outputs": []
    },
    {
      "cell_type": "code",
      "metadata": {
        "id": "OZSDGWbWH5bG"
      },
      "source": [
        ""
      ],
      "execution_count": null,
      "outputs": []
    },
    {
      "cell_type": "code",
      "metadata": {
        "id": "gnV-4Av_BfMJ",
        "outputId": "13d153ba-59a0-4090-cd43-3186d17a7be5",
        "colab": {
          "base_uri": "https://localhost:8080/",
          "height": 35
        }
      },
      "source": [
        "#wyswietlanie obiektu w liscie \"list1\"\n",
        "list1[1]"
      ],
      "execution_count": null,
      "outputs": [
        {
          "output_type": "execute_result",
          "data": {
            "application/vnd.google.colaboratory.intrinsic+json": {
              "type": "string"
            },
            "text/plain": [
              "'ma'"
            ]
          },
          "metadata": {
            "tags": []
          },
          "execution_count": 26
        }
      ]
    },
    {
      "cell_type": "code",
      "metadata": {
        "id": "DZtkl8d_AEVb",
        "outputId": "3431dec5-4fcf-4bfa-d35d-9507afe2af7a",
        "colab": {
          "base_uri": "https://localhost:8080/"
        }
      },
      "source": [
        "#dodawanie listy\n",
        "list1+list2"
      ],
      "execution_count": null,
      "outputs": [
        {
          "output_type": "execute_result",
          "data": {
            "text/plain": [
              "('ala', 'ma', 'kota', 'karolina', 'ma', 'korale')"
            ]
          },
          "metadata": {
            "tags": []
          },
          "execution_count": 27
        }
      ]
    },
    {
      "cell_type": "code",
      "metadata": {
        "id": "xTyTTN1qAMxy",
        "outputId": "2ad82085-599a-4e0b-f0fb-970aefc41ec5",
        "colab": {
          "base_uri": "https://localhost:8080/"
        }
      },
      "source": [
        "#mnoznenie listy \n",
        "list1*2"
      ],
      "execution_count": null,
      "outputs": [
        {
          "output_type": "execute_result",
          "data": {
            "text/plain": [
              "('ala', 'ma', 'kota', 'ala', 'ma', 'kota')"
            ]
          },
          "metadata": {
            "tags": []
          },
          "execution_count": 17
        }
      ]
    },
    {
      "cell_type": "code",
      "metadata": {
        "id": "dGTVUcKxAg7A",
        "outputId": "957e7fbe-c8d9-4391-9896-a6fc35a8e72d",
        "colab": {
          "base_uri": "https://localhost:8080/"
        }
      },
      "source": [
        "#wyswietlanie od trzeciego obiektu\n",
        "list1[:3]"
      ],
      "execution_count": null,
      "outputs": [
        {
          "output_type": "execute_result",
          "data": {
            "text/plain": [
              "('ala', 'ma', 'kota')"
            ]
          },
          "metadata": {
            "tags": []
          },
          "execution_count": 31
        }
      ]
    },
    {
      "cell_type": "code",
      "metadata": {
        "id": "r4KY_FpoAlRk"
      },
      "source": [
        "#tworzenie 2 list array\n",
        "a = np.array([3,1,3])\n",
        "b = np.array([(1.5,2,3), (4,5,6)])\n",
        "\n"
      ],
      "execution_count": null,
      "outputs": []
    },
    {
      "cell_type": "code",
      "metadata": {
        "id": "OnCZSVJdIeoK",
        "outputId": "a91e8b01-9254-4cb0-ba3f-439cbd93248a",
        "colab": {
          "base_uri": "https://localhost:8080/"
        }
      },
      "source": [
        "#rozmiar listy \n",
        "a.size"
      ],
      "execution_count": null,
      "outputs": [
        {
          "output_type": "execute_result",
          "data": {
            "text/plain": [
              "3"
            ]
          },
          "metadata": {
            "tags": []
          },
          "execution_count": 45
        }
      ]
    },
    {
      "cell_type": "code",
      "metadata": {
        "id": "qH6hp9sKISNH",
        "outputId": "7d5d732a-76d8-44ce-e49a-593bea0e440f",
        "colab": {
          "base_uri": "https://localhost:8080/"
        }
      },
      "source": [
        "#sumowanie 2 list\n",
        "c=b+a\n",
        "print(c)"
      ],
      "execution_count": null,
      "outputs": [
        {
          "output_type": "stream",
          "text": [
            "[[2.5 4.  6. ]\n",
            " [5.  7.  9. ]]\n"
          ],
          "name": "stdout"
        }
      ]
    },
    {
      "cell_type": "code",
      "metadata": {
        "id": "hLgonWPcI6nZ",
        "outputId": "924c11e5-8164-4121-8d7e-9b710c973d54",
        "colab": {
          "base_uri": "https://localhost:8080/"
        }
      },
      "source": [
        "#sorotwanie listy\n",
        "a.sort()\n",
        "print(a)"
      ],
      "execution_count": null,
      "outputs": [
        {
          "output_type": "stream",
          "text": [
            "[1 3 3]\n"
          ],
          "name": "stdout"
        }
      ]
    },
    {
      "cell_type": "code",
      "metadata": {
        "id": "Y6VoMKeMJJzW",
        "outputId": "0a9ef812-3ba7-4762-93c7-3094630fb2e5",
        "colab": {
          "base_uri": "https://localhost:8080/"
        }
      },
      "source": [
        "#dodowanie min\n",
        "a.min()"
      ],
      "execution_count": null,
      "outputs": [
        {
          "output_type": "execute_result",
          "data": {
            "text/plain": [
              "1"
            ]
          },
          "metadata": {
            "tags": []
          },
          "execution_count": 56
        }
      ]
    },
    {
      "cell_type": "code",
      "metadata": {
        "id": "_Yw1u2rpJO3q",
        "outputId": "59ca5c87-f0d9-4728-f508-fefb44f7553c",
        "colab": {
          "base_uri": "https://localhost:8080/"
        }
      },
      "source": [
        " #Tworzenie macierza \n",
        "import numpy as np \n",
        " A = np.matrix(np.random.random((2,2)))\n",
        " print(A)"
      ],
      "execution_count": null,
      "outputs": [
        {
          "output_type": "stream",
          "text": [
            "[[0.98216156 0.96928258]\n",
            " [0.70724789 0.17228954]]\n"
          ],
          "name": "stdout"
        }
      ]
    },
    {
      "cell_type": "code",
      "metadata": {
        "id": "gKOiIdhxJlSs",
        "outputId": "eee86fd0-c669-4ceb-c0b1-1ba4bf38223e",
        "colab": {
          "base_uri": "https://localhost:8080/"
        }
      },
      "source": [
        "from scipy import linalg, sparse\n",
        "#tworzenie macierza \n",
        "F = np.eye(2, k=1) \n",
        "print(F)"
      ],
      "execution_count": null,
      "outputs": [
        {
          "output_type": "stream",
          "text": [
            "[[0. 1.]\n",
            " [0. 0.]]\n"
          ],
          "name": "stdout"
        }
      ]
    },
    {
      "cell_type": "code",
      "metadata": {
        "id": "Lmmu4PB7LlX0",
        "outputId": "e502a536-e799-4cc6-c5bb-92ec417ff03e",
        "colab": {
          "base_uri": "https://localhost:8080/"
        }
      },
      "source": [
        "#dzielnie macierzy \n",
        " E1 = np.matrix(np.random.random((2,2)))\n",
        " F1 = np.matrix(np.random.random((2,2)))\n",
        "\n",
        "C=np.divide(E1,F1) \n",
        "print(C)"
      ],
      "execution_count": null,
      "outputs": [
        {
          "output_type": "stream",
          "text": [
            "[[0.8766499  1.62596377]\n",
            " [8.43798691 1.10781992]]\n"
          ],
          "name": "stdout"
        }
      ]
    },
    {
      "cell_type": "code",
      "metadata": {
        "id": "SYYHduddMEZF",
        "outputId": "2ad2c22e-73dc-4b01-b396-8dd29206da94",
        "colab": {
          "base_uri": "https://localhost:8080/"
        }
      },
      "source": [
        "#dodawaie macierzy\n",
        "C1=np.multiply(E1,F1) \n",
        "print(C1)"
      ],
      "execution_count": null,
      "outputs": [
        {
          "output_type": "stream",
          "text": [
            "[[0.69722912 0.13047959]\n",
            " [0.01989882 0.40176888]]\n"
          ],
          "name": "stdout"
        }
      ]
    },
    {
      "cell_type": "code",
      "metadata": {
        "id": "_fjIqPuKMNNY",
        "outputId": "5da144e4-db8f-4aa5-ee95-881d981d5783",
        "colab": {
          "base_uri": "https://localhost:8080/"
        }
      },
      "source": [
        "#odejmowanie macierzy\n",
        "E2 = np.matrix(np.random.random((2,2)))\n",
        "F2 = np.matrix(np.random.random((2,2)))\n",
        "\n",
        "C2=np.subtract(E2,F2)\n",
        "print(C2)"
      ],
      "execution_count": null,
      "outputs": [
        {
          "output_type": "stream",
          "text": [
            "[[ 0.47635941  0.53325805]\n",
            " [ 0.48339319 -0.11721327]]\n"
          ],
          "name": "stdout"
        }
      ]
    },
    {
      "cell_type": "code",
      "metadata": {
        "id": "hebq27HTM17L",
        "outputId": "15328e1e-66f2-4999-f33a-b82efe5f0de4",
        "colab": {
          "base_uri": "https://localhost:8080/"
        }
      },
      "source": [
        " import pandas as pd\n",
        " #tworzenie jednowymiarowej tablicy\n",
        "s = pd.Series([3, -5, 7, 4], index=['a', 'b', 'c', 'd'])\n",
        "print(s)"
      ],
      "execution_count": null,
      "outputs": [
        {
          "output_type": "stream",
          "text": [
            "a    3\n",
            "b   -5\n",
            "c    7\n",
            "d    4\n",
            "dtype: int64\n"
          ],
          "name": "stdout"
        }
      ]
    },
    {
      "cell_type": "code",
      "metadata": {
        "id": "PGdExv2ZNNQD",
        "outputId": "d41a8f39-38b7-4fcd-c7ac-f51b2e581cd9",
        "colab": {
          "base_uri": "https://localhost:8080/"
        }
      },
      "source": [
        "#wyciaganie elementu o indeksie b\n",
        "s['b']"
      ],
      "execution_count": null,
      "outputs": [
        {
          "output_type": "execute_result",
          "data": {
            "text/plain": [
              "-5"
            ]
          },
          "metadata": {
            "tags": []
          },
          "execution_count": 122
        }
      ]
    },
    {
      "cell_type": "code",
      "metadata": {
        "id": "rGpI1t3wNRuv",
        "outputId": "9fc532cc-3814-44e3-8659-cbd3e33d867f",
        "colab": {
          "base_uri": "https://localhost:8080/"
        }
      },
      "source": [
        " #usuwanie elementow \n",
        " s.drop(['a', 'c']) \n",
        " "
      ],
      "execution_count": null,
      "outputs": [
        {
          "output_type": "execute_result",
          "data": {
            "text/plain": [
              "b   -5\n",
              "d    4\n",
              "dtype: int64"
            ]
          },
          "metadata": {
            "tags": []
          },
          "execution_count": 125
        }
      ]
    },
    {
      "cell_type": "code",
      "metadata": {
        "id": "H_h-q4CPNiuI",
        "outputId": "b709e106-4180-4606-96cf-73c25ffb3b24",
        "colab": {
          "base_uri": "https://localhost:8080/"
        }
      },
      "source": [
        "#suma wartosci\n",
        "s.sum()"
      ],
      "execution_count": null,
      "outputs": [
        {
          "output_type": "execute_result",
          "data": {
            "text/plain": [
              "9"
            ]
          },
          "metadata": {
            "tags": []
          },
          "execution_count": 126
        }
      ]
    },
    {
      "cell_type": "code",
      "metadata": {
        "id": "UgpW_zvDNp8b",
        "outputId": "808db331-dc35-44f7-c69f-2c6cbe52fd07",
        "colab": {
          "base_uri": "https://localhost:8080/"
        }
      },
      "source": [
        " #najmniejszy element tablicy\n",
        " s.min()"
      ],
      "execution_count": null,
      "outputs": [
        {
          "output_type": "execute_result",
          "data": {
            "text/plain": [
              "-5"
            ]
          },
          "metadata": {
            "tags": []
          },
          "execution_count": 128
        }
      ]
    },
    {
      "cell_type": "code",
      "metadata": {
        "id": "IgaPC0FtNsnF",
        "outputId": "888458c5-87a2-46b8-d13f-cb50392ca2e5",
        "colab": {
          "base_uri": "https://localhost:8080/"
        }
      },
      "source": [
        "#najwiekszy element tablicy \n",
        "smax()"
      ],
      "execution_count": null,
      "outputs": [
        {
          "output_type": "execute_result",
          "data": {
            "text/plain": [
              "7"
            ]
          },
          "metadata": {
            "tags": []
          },
          "execution_count": 129
        }
      ]
    },
    {
      "cell_type": "code",
      "metadata": {
        "id": "minAbTDCOpTw"
      },
      "source": [
        "import numpy as np\n",
        "import matplotlib.pyplot as plt\n",
        "x = np.linspace(0, 10, 100)\n",
        "y = np.cos(x)\n",
        "z = np.sin(x)"
      ],
      "execution_count": null,
      "outputs": []
    },
    {
      "cell_type": "code",
      "metadata": {
        "id": "kdqBmXBwOugg",
        "outputId": "54ebc051-f9db-4ada-b4b5-19aa8c269ef1",
        "colab": {
          "base_uri": "https://localhost:8080/",
          "height": 315
        }
      },
      "source": [
        " #rysowanie wykresu \n",
        " plt.plot(x, x, x, x**2, x, x**3)"
      ],
      "execution_count": null,
      "outputs": [
        {
          "output_type": "execute_result",
          "data": {
            "text/plain": [
              "[<matplotlib.lines.Line2D at 0x7f8d93cbd978>,\n",
              " <matplotlib.lines.Line2D at 0x7f8d93cbda90>,\n",
              " <matplotlib.lines.Line2D at 0x7f8d93cbdbe0>]"
            ]
          },
          "metadata": {
            "tags": []
          },
          "execution_count": 139
        },
        {
          "output_type": "display_data",
          "data": {
            "image/png": "[encoded data removed]",
            "text/plain": [
              "<Figure size 432x288 with 1 Axes>"
            ]
          },
          "metadata": {
            "tags": [],
            "needs_background": "light"
          }
        }
      ]
    },
    {
      "cell_type": "code",
      "metadata": {
        "id": "Jj2HSeL5O0Px",
        "outputId": "9783824f-f34a-46d1-f85e-e5d3721b3994",
        "colab": {
          "base_uri": "https://localhost:8080/",
          "height": 282
        }
      },
      "source": [
        "#rysowanie wykresu \n",
        "plt.plot(x,y,linewidth=4.0)"
      ],
      "execution_count": null,
      "outputs": [
        {
          "output_type": "execute_result",
          "data": {
            "text/plain": [
              "[<matplotlib.lines.Line2D at 0x7f8d937908d0>]"
            ]
          },
          "metadata": {
            "tags": []
          },
          "execution_count": 141
        },
        {
          "output_type": "display_data",
          "data": {
            "image/png": "[encoded data removed]",
            "text/plain": [
              "<Figure size 432x288 with 1 Axes>"
            ]
          },
          "metadata": {
            "tags": [],
            "needs_background": "light"
          }
        }
      ]
    },
    {
      "cell_type": "code",
      "metadata": {
        "id": "40iulcYpO-CU",
        "outputId": "b6975e1c-012b-40ad-d13a-18d706272388",
        "colab": {
          "base_uri": "https://localhost:8080/",
          "height": 305
        }
      },
      "source": [
        "#tworzenie tytulu\n",
        "plt.title(r'$sigma_i=15$', fontsize=20)"
      ],
      "execution_count": null,
      "outputs": [
        {
          "output_type": "execute_result",
          "data": {
            "text/plain": [
              "Text(0.5, 1.0, '$sigma_i=15$')"
            ]
          },
          "metadata": {
            "tags": []
          },
          "execution_count": 160
        },
        {
          "output_type": "display_data",
          "data": {
            "image/png": "[encoded data removed]",
            "text/plain": [
              "<Figure size 432x288 with 1 Axes>"
            ]
          },
          "metadata": {
            "tags": [],
            "needs_background": "light"
          }
        }
      ]
    },
    {
      "cell_type": "code",
      "metadata": {
        "id": "7wv7EBpbQHzR",
        "outputId": "a0b65adc-b6e3-4a30-b883-80b5cad2a82c",
        "colab": {
          "base_uri": "https://localhost:8080/",
          "height": 298
        }
      },
      "source": [
        "#tworzenie wykresu\n",
        "plt.plot(x,y,'--',x**2,y**2,'-.')"
      ],
      "execution_count": null,
      "outputs": [
        {
          "output_type": "execute_result",
          "data": {
            "text/plain": [
              "[<matplotlib.lines.Line2D at 0x7f8d93545a20>,\n",
              " <matplotlib.lines.Line2D at 0x7f8d935455c0>]"
            ]
          },
          "metadata": {
            "tags": []
          },
          "execution_count": 164
        },
        {
          "output_type": "display_data",
          "data": {
            "image/png": "[encoded data removed]",
            "text/plain": [
              "<Figure size 432x288 with 1 Axes>"
            ]
          },
          "metadata": {
            "tags": [],
            "needs_background": "light"
          }
        }
      ]
    },
    {
      "cell_type": "code",
      "metadata": {
        "id": "30IsqZX4QY8F",
        "outputId": "4bbfbaa9-0428-4eb9-ea0c-79b3e6dd269b",
        "colab": {
          "base_uri": "https://localhost:8080/",
          "height": 399
        }
      },
      "source": [
        "import matplotlib.pyplot as plt\n",
        "import seaborn as sns\n",
        "import matplotlib.pyplot as plt\n",
        "tips = sns.load_dataset(\"tips\") \n",
        "sns.set_style(\"whitegrid\")\n",
        "g = sns.lmplot(x=\"tip\",\n",
        "y=\"total_bill\",\n",
        "data=tips,\n",
        "aspect=2)\n",
        "g = (g.set_axis_labels(\"Tip\",\"Total bill(USD)\").\n",
        "set(xlim=(0,10),ylim=(0,100)))\n",
        "plt.title(\"title\")\n",
        "plt.show(g)"
      ],
      "execution_count": null,
      "outputs": [
        {
          "output_type": "display_data",
          "data": {
            "image/png": "[encoded data removed]",
            "text/plain": [
              "<Figure size 720x360 with 1 Axes>"
            ]
          },
          "metadata": {
            "tags": []
          }
        }
      ]
    },
    {
      "cell_type": "code",
      "metadata": {
        "id": "cyIoogQNQ03m",
        "outputId": "0c951a88-93da-4fd0-b934-60e072827812",
        "colab": {
          "base_uri": "https://localhost:8080/",
          "height": 337
        }
      },
      "source": [
        "import pandas as pd\n",
        "import numpy as np\n",
        "uniform_data = np.random.rand(10, 12)\n",
        "data = pd.DataFrame({'x':np.arange(1,101),\n",
        "'y':np.random.normal(0,4,100)})\n",
        "plt.show(uniform_data)"
      ],
      "execution_count": null,
      "outputs": [
        {
          "output_type": "error",
          "ename": "ValueError",
          "evalue": "ignored",
          "traceback": [
            "\u001b[0;31m---------------------------------------------------------------------------\u001b[0m",
            "\u001b[0;31mValueError\u001b[0m                                Traceback (most recent call last)",
            "\u001b[0;32m<ipython-input-179-5242b5e6c154>\u001b[0m in \u001b[0;36m<module>\u001b[0;34m()\u001b[0m\n\u001b[1;32m      4\u001b[0m data = pd.DataFrame({'x':np.arange(1,101),\n\u001b[1;32m      5\u001b[0m 'y':np.random.normal(0,4,100)})\n\u001b[0;32m----> 6\u001b[0;31m \u001b[0mplt\u001b[0m\u001b[0;34m.\u001b[0m\u001b[0mshow\u001b[0m\u001b[0;34m(\u001b[0m\u001b[0muniform_data\u001b[0m\u001b[0;34m)\u001b[0m\u001b[0;34m\u001b[0m\u001b[0;34m\u001b[0m\u001b[0m\n\u001b[0m",
            "\u001b[0;32m/usr/local/lib/python3.6/dist-packages/matplotlib/pyplot.py\u001b[0m in \u001b[0;36mshow\u001b[0;34m(*args, **kw)\u001b[0m\n\u001b[1;32m    270\u001b[0m     \"\"\"\n\u001b[1;32m    271\u001b[0m     \u001b[0;32mglobal\u001b[0m \u001b[0m_show\u001b[0m\u001b[0;34m\u001b[0m\u001b[0;34m\u001b[0m\u001b[0m\n\u001b[0;32m--> 272\u001b[0;31m     \u001b[0;32mreturn\u001b[0m \u001b[0m_show\u001b[0m\u001b[0;34m(\u001b[0m\u001b[0;34m*\u001b[0m\u001b[0margs\u001b[0m\u001b[0;34m,\u001b[0m \u001b[0;34m**\u001b[0m\u001b[0mkw\u001b[0m\u001b[0;34m)\u001b[0m\u001b[0;34m\u001b[0m\u001b[0;34m\u001b[0m\u001b[0m\n\u001b[0m\u001b[1;32m    273\u001b[0m \u001b[0;34m\u001b[0m\u001b[0m\n\u001b[1;32m    274\u001b[0m \u001b[0;34m\u001b[0m\u001b[0m\n",
            "\u001b[0;32m/usr/local/lib/python3.6/dist-packages/ipykernel/pylab/backend_inline.py\u001b[0m in \u001b[0;36mshow\u001b[0;34m(close, block)\u001b[0m\n\u001b[1;32m     43\u001b[0m         \u001b[0;31m# only call close('all') if any to close\u001b[0m\u001b[0;34m\u001b[0m\u001b[0;34m\u001b[0m\u001b[0;34m\u001b[0m\u001b[0m\n\u001b[1;32m     44\u001b[0m         \u001b[0;31m# close triggers gc.collect, which can be slow\u001b[0m\u001b[0;34m\u001b[0m\u001b[0;34m\u001b[0m\u001b[0;34m\u001b[0m\u001b[0m\n\u001b[0;32m---> 45\u001b[0;31m         \u001b[0;32mif\u001b[0m \u001b[0mclose\u001b[0m \u001b[0;32mand\u001b[0m \u001b[0mGcf\u001b[0m\u001b[0;34m.\u001b[0m\u001b[0mget_all_fig_managers\u001b[0m\u001b[0;34m(\u001b[0m\u001b[0;34m)\u001b[0m\u001b[0;34m:\u001b[0m\u001b[0;34m\u001b[0m\u001b[0;34m\u001b[0m\u001b[0m\n\u001b[0m\u001b[1;32m     46\u001b[0m             \u001b[0mmatplotlib\u001b[0m\u001b[0;34m.\u001b[0m\u001b[0mpyplot\u001b[0m\u001b[0;34m.\u001b[0m\u001b[0mclose\u001b[0m\u001b[0;34m(\u001b[0m\u001b[0;34m'all'\u001b[0m\u001b[0;34m)\u001b[0m\u001b[0;34m\u001b[0m\u001b[0;34m\u001b[0m\u001b[0m\n\u001b[1;32m     47\u001b[0m \u001b[0;34m\u001b[0m\u001b[0m\n",
            "\u001b[0;31mValueError\u001b[0m: The truth value of an array with more than one element is ambiguous. Use a.any() or a.all()"
          ]
        }
      ]
    }
  ]
}