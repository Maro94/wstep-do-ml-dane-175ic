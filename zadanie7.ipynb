{
  "nbformat": 4,
  "nbformat_minor": 0,
  "metadata": {
    "colab": {
      "name": "zadanie7",
      "provenance": [],
      "collapsed_sections": [],
      "include_colab_link": true
    },
    "kernelspec": {
      "name": "python3",
      "display_name": "Python 3"
    }
  },
  "cells": [
    {
      "cell_type": "markdown",
      "metadata": {
        "id": "view-in-github",
        "colab_type": "text"
      },
      "source": [
        "<a href=\"https://colab.research.google.com/github/Maro94/wstep-do-ml-mariuszmallek19389B1-175ic/blob/main/zadanie7.ipynb\" target=\"_parent\"><img src=\"https://colab.research.google.com/assets/colab-badge.svg\" alt=\"Open In Colab\"/></a>"
      ]
    },
    {
      "cell_type": "code",
      "metadata": {
        "id": "XpSrZmBIcHSp"
      },
      "source": [
        "import numpy as np\r\n",
        "import pandas as pd\r\n",
        "\r\n",
        "#definicja funkcji\r\n",
        "def function(x):\r\n",
        "    if x > 0:\r\n",
        "     return 1\r\n",
        "    return 0"
      ],
      "execution_count": null,
      "outputs": []
    },
    {
      "cell_type": "code",
      "metadata": {
        "colab": {
          "base_uri": "https://localhost:8080/"
        },
        "id": "ah7mCzpHc0-s",
        "outputId": "3bc1dcca-b002-48ca-eef9-77d84b6caf04"
      },
      "source": [
        "#AND\r\n",
        "biasand= 1 * -1.5\r\n",
        "input = [[0,0], [0,1], [1,0], [1,1]]\r\n",
        "x1w = 1\r\n",
        "x2w = 1\r\n",
        "for inp in input:\r\n",
        "    output = function(biasand + inp[0] + inp[1])   \r\n",
        "    dataset = {'x1': inp[0], 'x2': inp[1], 'Waga=x1': x1w, 'Waga x=2': x2w, 'waga x=and': -1.5,\r\n",
        "              'x1*x1w': inp[0]*x1w, 'x2*x2w': inp[1]*x2w, 'Output': output}\r\n",
        "    pd.DataFrame(dataset, index=[0,1,2,3])\r\n",
        "    print(dataset)\r\n"
      ],
      "execution_count": null,
      "outputs": [
        {
          "output_type": "stream",
          "text": [
            "{'x1': 0, 'x2': 0, 'Waga=x1': 1, 'Waga x=2': 1, 'waga x=and': -1.5, 'x1*x1w': 0, 'x2*x2w': 0, 'Output': 0}\n",
            "{'x1': 0, 'x2': 1, 'Waga=x1': 1, 'Waga x=2': 1, 'waga x=and': -1.5, 'x1*x1w': 0, 'x2*x2w': 1, 'Output': 0}\n",
            "{'x1': 1, 'x2': 0, 'Waga=x1': 1, 'Waga x=2': 1, 'waga x=and': -1.5, 'x1*x1w': 1, 'x2*x2w': 0, 'Output': 0}\n",
            "{'x1': 1, 'x2': 1, 'Waga=x1': 1, 'Waga x=2': 1, 'waga x=and': -1.5, 'x1*x1w': 1, 'x2*x2w': 1, 'Output': 1}\n"
          ],
          "name": "stdout"
        }
      ]
    },
    {
      "cell_type": "code",
      "metadata": {
        "colab": {
          "base_uri": "https://localhost:8080/"
        },
        "id": "aeBfulpoeXiL",
        "outputId": "835b2304-0801-47fb-8ccd-380ef8407ca5"
      },
      "source": [
        "#OR\r\n",
        "biasor= 1 * -0.5\r\n",
        "input = [[0,0], [0,1], [1,0], [1,1]]\r\n",
        "x1w = 1\r\n",
        "x2w = 1\r\n",
        "for inp in input:\r\n",
        "    output = function(biasor + inp[0] + inp[1])\r\n",
        "    dataset = {'x1': inp[0], 'x2': inp[1], 'Waga=x1': x1w, 'Waga=x2': x2w, 'Waga=or': -0.5,\r\n",
        "              'x1*x1w': inp[0]*x1w, 'x2*x2w': inp[1]*x2w, 'Output': output}\r\n",
        "    pd.DataFrame(dataset, index=[0,1,2,3])\r\n",
        "    print(dataset)\r\n",
        "\r\n"
      ],
      "execution_count": null,
      "outputs": [
        {
          "output_type": "stream",
          "text": [
            "{'x1': 0, 'x2': 0, 'Waga=x1': 1, 'Waga=x2': 1, 'Waga=or': -0.5, 'x1*x1w': 0, 'x2*x2w': 0, 'Output': 0}\n",
            "{'x1': 0, 'x2': 1, 'Waga=x1': 1, 'Waga=x2': 1, 'Waga=or': -0.5, 'x1*x1w': 0, 'x2*x2w': 1, 'Output': 1}\n",
            "{'x1': 1, 'x2': 0, 'Waga=x1': 1, 'Waga=x2': 1, 'Waga=or': -0.5, 'x1*x1w': 1, 'x2*x2w': 0, 'Output': 1}\n",
            "{'x1': 1, 'x2': 1, 'Waga=x1': 1, 'Waga=x2': 1, 'Waga=or': -0.5, 'x1*x1w': 1, 'x2*x2w': 1, 'Output': 1}\n"
          ],
          "name": "stdout"
        }
      ]
    },
    {
      "cell_type": "code",
      "metadata": {
        "colab": {
          "base_uri": "https://localhost:8080/"
        },
        "id": "BcVZFDQsfT1P",
        "outputId": "64cfc07f-a682-4e1a-e024-7ed5e586f36d"
      },
      "source": [
        "#NOT\r\n",
        "biasnot= 1 * -0.5\r\n",
        "NOT=[0,1]\r\n",
        "input = [[0,0], [0,1], [1,0], [1,1]]\r\n",
        "x1w = 1\r\n",
        "x2w = 1\r\n",
        "for inp in NOT:\r\n",
        "    x1w = -2 * inp\r\n",
        "    output = function(biasnot + x1w)\r\n",
        "    dataset = {'x1': inp, 'Waga=x1': x1w, 'Waga=not': 1,\r\n",
        "              'x1*x1w': inp*x1w, 'Output': output}\r\n",
        "    pd.DataFrame(dataset, index=[0,1,2,3])\r\n",
        "    print(dataset)"
      ],
      "execution_count": null,
      "outputs": [
        {
          "output_type": "stream",
          "text": [
            "{'x1': 0, 'Waga=x1': 0, 'Waga=not': 1, 'x1*x1w': 0, 'Output': 0}\n",
            "{'x1': 1, 'Waga=x1': -2, 'Waga=not': 1, 'x1*x1w': -2, 'Output': 0}\n"
          ],
          "name": "stdout"
        }
      ]
    }
  ]
}