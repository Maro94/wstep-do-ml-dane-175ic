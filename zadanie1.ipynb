{
  "nbformat": 4,
  "nbformat_minor": 0,
  "metadata": {
    "colab": {
      "name": "zadanie1wyklad",
      "provenance": [],
      "authorship_tag": "ABX9TyOea/1tkcAhvrkPk1XIyCaP",
      "include_colab_link": true
    },
    "kernelspec": {
      "name": "python3",
      "display_name": "Python 3"
    }
  },
  "cells": [
    {
      "cell_type": "markdown",
      "metadata": {
        "id": "view-in-github",
        "colab_type": "text"
      },
      "source": [
        "<a href=\"https://colab.research.google.com/github/Maro94/wstep-do-ml-mariuszmallek19389B1-175ic/blob/main/zadanie1.ipynb\" target=\"_parent\"><img src=\"https://colab.research.google.com/assets/colab-badge.svg\" alt=\"Open In Colab\"/></a>"
      ]
    },
    {
      "cell_type": "code",
      "metadata": {
        "id": "-ni3FPL1w_ev",
        "outputId": "f2b8fcc8-c499-449a-a3bd-fb673dfa0a52",
        "colab": {
          "base_uri": "https://localhost:8080/"
        }
      },
      "source": [
        "import numpy as np\n",
        "np.zeros(10)\n"
      ],
      "execution_count": null,
      "outputs": [
        {
          "output_type": "execute_result",
          "data": {
            "text/plain": [
              "array([0., 0., 0., 0., 0., 0., 0., 0., 0., 0.])"
            ]
          },
          "metadata": {
            "tags": []
          },
          "execution_count": 1
        }
      ]
    },
    {
      "cell_type": "code",
      "metadata": {
        "id": "uJDKYXzhzPnl",
        "outputId": "3e41214e-40fb-4f35-d94f-9a26d62ea85c",
        "colab": {
          "base_uri": "https://localhost:8080/"
        }
      },
      "source": [
        "np. full(10,5)\n"
      ],
      "execution_count": null,
      "outputs": [
        {
          "output_type": "execute_result",
          "data": {
            "text/plain": [
              "array([5, 5, 5, 5, 5, 5, 5, 5, 5, 5])"
            ]
          },
          "metadata": {
            "tags": []
          },
          "execution_count": 2
        }
      ]
    },
    {
      "cell_type": "code",
      "metadata": {
        "id": "DtyKj7kGzSTr",
        "outputId": "21a1f5f6-a5b0-4e36-d90a-c88aae755462",
        "colab": {
          "base_uri": "https://localhost:8080/"
        }
      },
      "source": [
        "df = np.arange(10, 51, 1)\n",
        "print(df)"
      ],
      "execution_count": null,
      "outputs": [
        {
          "output_type": "stream",
          "text": [
            "[10 11 12 13 14 15 16 17 18 19 20 21 22 23 24 25 26 27 28 29 30 31 32 33\n",
            " 34 35 36 37 38 39 40 41 42 43 44 45 46 47 48 49 50]\n"
          ],
          "name": "stdout"
        }
      ]
    },
    {
      "cell_type": "code",
      "metadata": {
        "id": "7Nrsud47zczm",
        "outputId": "60115dcb-b47f-4294-fdcb-f862751cf0ed",
        "colab": {
          "base_uri": "https://localhost:8080/"
        }
      },
      "source": [
        "np.arange(0,9,1).reshape(3,3)\n"
      ],
      "execution_count": null,
      "outputs": [
        {
          "output_type": "execute_result",
          "data": {
            "text/plain": [
              "array([[0, 1, 2],\n",
              "       [3, 4, 5],\n",
              "       [6, 7, 8]])"
            ]
          },
          "metadata": {
            "tags": []
          },
          "execution_count": 6
        }
      ]
    },
    {
      "cell_type": "code",
      "metadata": {
        "id": "jj7a5cG8zisk",
        "outputId": "c0cb65b5-eb52-44f9-f194-f74af4a4a640",
        "colab": {
          "base_uri": "https://localhost:8080/"
        }
      },
      "source": [
        "np.eye(3)\n"
      ],
      "execution_count": null,
      "outputs": [
        {
          "output_type": "execute_result",
          "data": {
            "text/plain": [
              "array([[1., 0., 0.],\n",
              "       [0., 1., 0.],\n",
              "       [0., 0., 1.]])"
            ]
          },
          "metadata": {
            "tags": []
          },
          "execution_count": 7
        }
      ]
    },
    {
      "cell_type": "code",
      "metadata": {
        "id": "bW9H6sBLzv7O",
        "outputId": "f560f392-84ba-472b-90b1-66dd46f948a2",
        "colab": {
          "base_uri": "https://localhost:8080/"
        }
      },
      "source": [
        "np.random.normal(0, 0.5, (5,5))\n"
      ],
      "execution_count": null,
      "outputs": [
        {
          "output_type": "execute_result",
          "data": {
            "text/plain": [
              "array([[ 0.65018855,  0.19236638, -0.09374941,  0.61874164,  0.9244572 ],\n",
              "       [-0.10900695,  0.20976078,  0.05216441,  0.28180249, -0.2036327 ],\n",
              "       [ 0.91746368,  0.24239598, -0.26190319, -0.08940169, -0.92089492],\n",
              "       [ 0.17559932, -0.32102443,  0.59214247, -0.0674766 ,  0.31004309],\n",
              "       [ 0.47572363, -0.08958324, -0.68369601,  0.15776774, -0.32523987]])"
            ]
          },
          "metadata": {
            "tags": []
          },
          "execution_count": 8
        }
      ]
    },
    {
      "cell_type": "code",
      "metadata": {
        "id": "K_jVgyX3z0t1",
        "outputId": "b4871584-385c-488b-ac85-4f645960d3ea",
        "colab": {
          "base_uri": "https://localhost:8080/"
        }
      },
      "source": [
        "np.linspace(0.01, 1.0, 100).reshape(10, 10)\n"
      ],
      "execution_count": null,
      "outputs": [
        {
          "output_type": "execute_result",
          "data": {
            "text/plain": [
              "array([[0.01, 0.02, 0.03, 0.04, 0.05, 0.06, 0.07, 0.08, 0.09, 0.1 ],\n",
              "       [0.11, 0.12, 0.13, 0.14, 0.15, 0.16, 0.17, 0.18, 0.19, 0.2 ],\n",
              "       [0.21, 0.22, 0.23, 0.24, 0.25, 0.26, 0.27, 0.28, 0.29, 0.3 ],\n",
              "       [0.31, 0.32, 0.33, 0.34, 0.35, 0.36, 0.37, 0.38, 0.39, 0.4 ],\n",
              "       [0.41, 0.42, 0.43, 0.44, 0.45, 0.46, 0.47, 0.48, 0.49, 0.5 ],\n",
              "       [0.51, 0.52, 0.53, 0.54, 0.55, 0.56, 0.57, 0.58, 0.59, 0.6 ],\n",
              "       [0.61, 0.62, 0.63, 0.64, 0.65, 0.66, 0.67, 0.68, 0.69, 0.7 ],\n",
              "       [0.71, 0.72, 0.73, 0.74, 0.75, 0.76, 0.77, 0.78, 0.79, 0.8 ],\n",
              "       [0.81, 0.82, 0.83, 0.84, 0.85, 0.86, 0.87, 0.88, 0.89, 0.9 ],\n",
              "       [0.91, 0.92, 0.93, 0.94, 0.95, 0.96, 0.97, 0.98, 0.99, 1.  ]])"
            ]
          },
          "metadata": {
            "tags": []
          },
          "execution_count": 9
        }
      ]
    },
    {
      "cell_type": "code",
      "metadata": {
        "id": "uarG4aAnz3bz",
        "outputId": "fb19f92f-2c4d-4460-a36b-00a7e13125df",
        "colab": {
          "base_uri": "https://localhost:8080/"
        }
      },
      "source": [
        "np.linspace(0, 1, 20)\n"
      ],
      "execution_count": null,
      "outputs": [
        {
          "output_type": "execute_result",
          "data": {
            "text/plain": [
              "array([0.        , 0.05263158, 0.10526316, 0.15789474, 0.21052632,\n",
              "       0.26315789, 0.31578947, 0.36842105, 0.42105263, 0.47368421,\n",
              "       0.52631579, 0.57894737, 0.63157895, 0.68421053, 0.73684211,\n",
              "       0.78947368, 0.84210526, 0.89473684, 0.94736842, 1.        ])"
            ]
          },
          "metadata": {
            "tags": []
          },
          "execution_count": 10
        }
      ]
    },
    {
      "cell_type": "code",
      "metadata": {
        "id": "yEQN7vfDz4jX",
        "outputId": "19bd30e1-2f72-4b37-f57e-21c97e859dfa",
        "colab": {
          "base_uri": "https://localhost:8080/"
        }
      },
      "source": [
        "df = np.random.randint(2, 25, 25).reshape(5, 5)\n",
        "print(df)\n",
        "\n",
        "\n"
      ],
      "execution_count": null,
      "outputs": [
        {
          "output_type": "stream",
          "text": [
            "[[ 4  4 14 16 15]\n",
            " [14 22 21  6 11]\n",
            " [23 21 15 12 15]\n",
            " [ 6 18 15 22  5]\n",
            " [23 20 11 23  2]]\n"
          ],
          "name": "stdout"
        }
      ]
    },
    {
      "cell_type": "code",
      "metadata": {
        "id": "e4uT6dZc0U4S",
        "outputId": "0cc6dce7-ef31-4138-e5aa-ae176a82060f",
        "colab": {
          "base_uri": "https://localhost:8080/"
        }
      },
      "source": [
        "df.sum()\n",
        "\n",
        " "
      ],
      "execution_count": null,
      "outputs": [
        {
          "output_type": "execute_result",
          "data": {
            "text/plain": [
              "358"
            ]
          },
          "metadata": {
            "tags": []
          },
          "execution_count": 21
        }
      ]
    },
    {
      "cell_type": "code",
      "metadata": {
        "id": "xjduLq6R0iCn",
        "outputId": "0505fe5f-0fbf-4cb0-9acd-493e02c7715d",
        "colab": {
          "base_uri": "https://localhost:8080/"
        }
      },
      "source": [
        "df.mean()\n",
        " \n"
      ],
      "execution_count": null,
      "outputs": [
        {
          "output_type": "execute_result",
          "data": {
            "text/plain": [
              "14.32"
            ]
          },
          "metadata": {
            "tags": []
          },
          "execution_count": 22
        }
      ]
    },
    {
      "cell_type": "code",
      "metadata": {
        "id": "6dXzpg9x0jl6",
        "outputId": "5c57c652-f15d-4ac8-cb55-def0b934cd59",
        "colab": {
          "base_uri": "https://localhost:8080/"
        }
      },
      "source": [
        " \n",
        "np.std(df)\n",
        "df.sum(axis=0)\n"
      ],
      "execution_count": null,
      "outputs": [
        {
          "output_type": "execute_result",
          "data": {
            "text/plain": [
              "array([70, 85, 76, 79, 48])"
            ]
          },
          "metadata": {
            "tags": []
          },
          "execution_count": 23
        }
      ]
    },
    {
      "cell_type": "code",
      "metadata": {
        "id": "HLtrzvvP0mEC",
        "outputId": "dee27a6c-b7e3-4c2a-d2c4-ceff1de36c48",
        "colab": {
          "base_uri": "https://localhost:8080/"
        }
      },
      "source": [
        " \n",
        "df.sum(axis=0)\n"
      ],
      "execution_count": null,
      "outputs": [
        {
          "output_type": "execute_result",
          "data": {
            "text/plain": [
              "array([70, 85, 76, 79, 48])"
            ]
          },
          "metadata": {
            "tags": []
          },
          "execution_count": 24
        }
      ]
    },
    {
      "cell_type": "code",
      "metadata": {
        "id": "1cPgWZ1V0kxb",
        "outputId": "78bf2204-ef38-4cb9-a146-3f90f914cf1c",
        "colab": {
          "base_uri": "https://localhost:8080/"
        }
      },
      "source": [
        "df5x5 = np.random.randint(1, 100, (5, 5))\n",
        "print(df5x5)\n"
      ],
      "execution_count": null,
      "outputs": [
        {
          "output_type": "stream",
          "text": [
            "[[63 73 72 70 74]\n",
            " [90 46 26  1 33]\n",
            " [22 82 23 58 24]\n",
            " [58 22 55 97 70]\n",
            " [50 45 33 42 70]]\n"
          ],
          "name": "stdout"
        }
      ]
    },
    {
      "cell_type": "code",
      "metadata": {
        "id": "ehJiiRxA01u0",
        "outputId": "14f92a17-7f11-4329-f127-d4b5aae1beba",
        "colab": {
          "base_uri": "https://localhost:8080/"
        }
      },
      "source": [
        "np.median(df5x5)\n"
      ],
      "execution_count": null,
      "outputs": [
        {
          "output_type": "execute_result",
          "data": {
            "text/plain": [
              "55.0"
            ]
          },
          "metadata": {
            "tags": []
          },
          "execution_count": 30
        }
      ]
    },
    {
      "cell_type": "code",
      "metadata": {
        "id": "DgtEkGZP0_PG",
        "outputId": "57539ada-446b-4e09-f903-cd166f252aea",
        "colab": {
          "base_uri": "https://localhost:8080/"
        }
      },
      "source": [
        "df5x5.min()\n"
      ],
      "execution_count": null,
      "outputs": [
        {
          "output_type": "execute_result",
          "data": {
            "text/plain": [
              "1"
            ]
          },
          "metadata": {
            "tags": []
          },
          "execution_count": 31
        }
      ]
    },
    {
      "cell_type": "code",
      "metadata": {
        "id": "OC_ZCK_M1BrL",
        "outputId": "cb5eb397-428a-4df9-9398-f857381176d1",
        "colab": {
          "base_uri": "https://localhost:8080/"
        }
      },
      "source": [
        "df5x5.max()"
      ],
      "execution_count": null,
      "outputs": [
        {
          "output_type": "execute_result",
          "data": {
            "text/plain": [
              "97"
            ]
          },
          "metadata": {
            "tags": []
          },
          "execution_count": 32
        }
      ]
    },
    {
      "cell_type": "code",
      "metadata": {
        "id": "7F_7OUGo1DHI",
        "outputId": "6bc33385-48d8-44f0-e9ac-4ea47996132d",
        "colab": {
          "base_uri": "https://localhost:8080/"
        }
      },
      "source": [
        "df = np.random.randint(1, 100, (4, 3))\n",
        "print (df.T)\n"
      ],
      "execution_count": null,
      "outputs": [
        {
          "output_type": "stream",
          "text": [
            "[[90 92 15 99]\n",
            " [64 24 84 88]\n",
            " [22 35 87 43]]\n"
          ],
          "name": "stdout"
        }
      ]
    },
    {
      "cell_type": "code",
      "metadata": {
        "id": "-i9GVMDQ1Uw3",
        "outputId": "b5917cb8-32d3-4b00-ac18-f823fd7c497b",
        "colab": {
          "base_uri": "https://localhost:8080/"
        }
      },
      "source": [
        "df1 = np.random.random((4, 4))\n",
        "df2 = np.random.random((4, 3))\n",
        "print(df1)\n",
        "print(df2)"
      ],
      "execution_count": null,
      "outputs": [
        {
          "output_type": "stream",
          "text": [
            "[[0.44297654 0.7754974  0.87830228 0.16756945]\n",
            " [0.2157613  0.51615374 0.19189565 0.95700338]\n",
            " [0.81989862 0.10856336 0.15501352 0.75704875]\n",
            " [0.06033689 0.37646482 0.96325788 0.40072222]]\n",
            "[[0.14678976 0.20477607 0.54200204]\n",
            " [0.2092748  0.78459334 0.41676122]\n",
            " [0.98819772 0.431996   0.6982105 ]\n",
            " [0.85318541 0.44701681 0.54046795]]\n"
          ],
          "name": "stdout"
        }
      ]
    },
    {
      "cell_type": "code",
      "metadata": {
        "id": "I9FLqj2L1m0q",
        "outputId": "c184f27a-df9f-4750-967d-6ca1e88af3a8",
        "colab": {
          "base_uri": "https://localhost:8080/"
        }
      },
      "source": [
        "df2 = np.append(df2, np.zeros((4, 1)), axis=1)\n",
        "print(df2)"
      ],
      "execution_count": null,
      "outputs": [
        {
          "output_type": "stream",
          "text": [
            "[[0.14678976 0.20477607 0.54200204 0.        ]\n",
            " [0.2092748  0.78459334 0.41676122 0.        ]\n",
            " [0.98819772 0.431996   0.6982105  0.        ]\n",
            " [0.85318541 0.44701681 0.54046795 0.        ]]\n"
          ],
          "name": "stdout"
        }
      ]
    },
    {
      "cell_type": "code",
      "metadata": {
        "id": "ZDNj-T9L18hs",
        "outputId": "72091359-9a3c-4bde-8273-e8772832be75",
        "colab": {
          "base_uri": "https://localhost:8080/"
        }
      },
      "source": [
        "print (df1 + df2)\n"
      ],
      "execution_count": null,
      "outputs": [
        {
          "output_type": "stream",
          "text": [
            "[[0.5897663  0.98027347 1.42030432 0.16756945]\n",
            " [0.4250361  1.30074707 0.60865686 0.95700338]\n",
            " [1.80809634 0.54055936 0.85322402 0.75704875]\n",
            " [0.91352231 0.82348163 1.50372582 0.40072222]]\n"
          ],
          "name": "stdout"
        }
      ]
    },
    {
      "cell_type": "code",
      "metadata": {
        "id": "VA5PXSNk2Evn",
        "outputId": "7f782f7a-11d2-4584-d4bd-58dd8583b49e",
        "colab": {
          "base_uri": "https://localhost:8080/"
        }
      },
      "source": [
        "mrandom1 = np.random.random((3, 4))\n",
        "mrandom2 = np.random.random((4, 3))\n",
        "\n",
        "print(mrandom1)\n",
        "print(mrandom2)\n"
      ],
      "execution_count": null,
      "outputs": [
        {
          "output_type": "stream",
          "text": [
            "[[0.71104243 0.56297028 0.22623514 0.15941252]\n",
            " [0.58268265 0.58774037 0.22626426 0.86571015]\n",
            " [0.55136919 0.87179152 0.14599701 0.68837092]]\n",
            "[[0.81619648 0.3371685  0.88866072]\n",
            " [0.80376258 0.52714943 0.32675924]\n",
            " [0.56763552 0.61147497 0.9607011 ]\n",
            " [0.85861493 0.20697472 0.60111914]]\n"
          ],
          "name": "stdout"
        }
      ]
    },
    {
      "cell_type": "code",
      "metadata": {
        "id": "WHV3yKsD2PSI",
        "outputId": "4d51c176-cc23-47bb-f920-9f2218c91984",
        "colab": {
          "base_uri": "https://localhost:8080/"
        }
      },
      "source": [
        "print (np.matmul(mrandom1, mrandom2))\n",
        "print (np.multiply(mrandom1.T, mrandom2))\n",
        "\n"
      ],
      "execution_count": null,
      "outputs": [
        {
          "output_type": "stream",
          "text": [
            "[[1.29813784 0.70784206 1.12900147]\n",
            " [1.81973454 0.82382429 1.44762405]\n",
            " [1.82465764 0.87721762 1.3288985 ]]\n",
            "[[0.58035033 0.19646223 0.48998014]\n",
            " [0.45249445 0.309827   0.28486593]\n",
            " [0.1284191  0.13835493 0.14025949]\n",
            " [0.13687397 0.17918012 0.41379293]]\n"
          ],
          "name": "stdout"
        }
      ]
    }
  ]
}